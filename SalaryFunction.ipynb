{
 "cells": [
  {
   "cell_type": "markdown",
   "metadata": {},
   "source": [
    "### Module 2 Assignment: Salary Function \n",
    "\n",
    "    Loading Libraries to Manipulate the Datasets"
   ]
  },
  {
   "cell_type": "code",
   "execution_count": 1,
   "metadata": {},
   "outputs": [],
   "source": [
    "# Importing Libraries\n",
    "\n",
    "import pandas as pd\n",
    "import numpy as np\n"
   ]
  },
  {
   "cell_type": "markdown",
   "metadata": {},
   "source": [
    "### Step 1. Importing Data"
   ]
  },
  {
   "cell_type": "code",
   "execution_count": 2,
   "metadata": {},
   "outputs": [
    {
     "name": "stderr",
     "output_type": "stream",
     "text": [
      "C:\\Users\\user\\AppData\\Local\\Temp\\ipykernel_10396\\2580632428.py:3: DtypeWarning: Columns (2,3,4,5) have mixed types. Specify dtype option on import or set low_memory=False.\n",
      "  df = pd.read_csv(r\"A:\\Programming in Python and R\\Module 2\\salary\\Total.csv\")\n"
     ]
    },
    {
     "data": {
      "text/html": [
       "<div>\n",
       "<style scoped>\n",
       "    .dataframe tbody tr th:only-of-type {\n",
       "        vertical-align: middle;\n",
       "    }\n",
       "\n",
       "    .dataframe tbody tr th {\n",
       "        vertical-align: top;\n",
       "    }\n",
       "\n",
       "    .dataframe thead th {\n",
       "        text-align: right;\n",
       "    }\n",
       "</style>\n",
       "<table border=\"1\" class=\"dataframe\">\n",
       "  <thead>\n",
       "    <tr style=\"text-align: right;\">\n",
       "      <th></th>\n",
       "      <th>EmployeeName</th>\n",
       "      <th>JobTitle</th>\n",
       "      <th>BasePay</th>\n",
       "      <th>OvertimePay</th>\n",
       "      <th>OtherPay</th>\n",
       "      <th>Benefits</th>\n",
       "      <th>TotalPay</th>\n",
       "      <th>TotalPayBenefits</th>\n",
       "      <th>Year</th>\n",
       "    </tr>\n",
       "  </thead>\n",
       "  <tbody>\n",
       "    <tr>\n",
       "      <th>0</th>\n",
       "      <td>NATHANIEL FORD</td>\n",
       "      <td>GENERAL MANAGER-METROPOLITAN TRANSIT AUTHORITY</td>\n",
       "      <td>167411.18</td>\n",
       "      <td>0.0</td>\n",
       "      <td>400184.25</td>\n",
       "      <td>Not Provided</td>\n",
       "      <td>567595.43</td>\n",
       "      <td>567595.43</td>\n",
       "      <td>2011</td>\n",
       "    </tr>\n",
       "    <tr>\n",
       "      <th>1</th>\n",
       "      <td>GARY JIMENEZ</td>\n",
       "      <td>CAPTAIN III (POLICE DEPARTMENT)</td>\n",
       "      <td>155966.02</td>\n",
       "      <td>245131.88</td>\n",
       "      <td>137811.38</td>\n",
       "      <td>Not Provided</td>\n",
       "      <td>538909.28</td>\n",
       "      <td>538909.28</td>\n",
       "      <td>2011</td>\n",
       "    </tr>\n",
       "    <tr>\n",
       "      <th>2</th>\n",
       "      <td>ALBERT PARDINI</td>\n",
       "      <td>CAPTAIN III (POLICE DEPARTMENT)</td>\n",
       "      <td>212739.13</td>\n",
       "      <td>106088.18</td>\n",
       "      <td>16452.6</td>\n",
       "      <td>Not Provided</td>\n",
       "      <td>335279.91</td>\n",
       "      <td>335279.91</td>\n",
       "      <td>2011</td>\n",
       "    </tr>\n",
       "    <tr>\n",
       "      <th>3</th>\n",
       "      <td>CHRISTOPHER CHONG</td>\n",
       "      <td>WIRE ROPE CABLE MAINTENANCE MECHANIC</td>\n",
       "      <td>77916.0</td>\n",
       "      <td>56120.71</td>\n",
       "      <td>198306.9</td>\n",
       "      <td>Not Provided</td>\n",
       "      <td>332343.61</td>\n",
       "      <td>332343.61</td>\n",
       "      <td>2011</td>\n",
       "    </tr>\n",
       "    <tr>\n",
       "      <th>4</th>\n",
       "      <td>PATRICK GARDNER</td>\n",
       "      <td>DEPUTY CHIEF OF DEPARTMENT,(FIRE DEPARTMENT)</td>\n",
       "      <td>134401.6</td>\n",
       "      <td>9737.0</td>\n",
       "      <td>182234.59</td>\n",
       "      <td>Not Provided</td>\n",
       "      <td>326373.19</td>\n",
       "      <td>326373.19</td>\n",
       "      <td>2011</td>\n",
       "    </tr>\n",
       "  </tbody>\n",
       "</table>\n",
       "</div>"
      ],
      "text/plain": [
       "        EmployeeName                                        JobTitle  \\\n",
       "0     NATHANIEL FORD  GENERAL MANAGER-METROPOLITAN TRANSIT AUTHORITY   \n",
       "1       GARY JIMENEZ                 CAPTAIN III (POLICE DEPARTMENT)   \n",
       "2     ALBERT PARDINI                 CAPTAIN III (POLICE DEPARTMENT)   \n",
       "3  CHRISTOPHER CHONG            WIRE ROPE CABLE MAINTENANCE MECHANIC   \n",
       "4    PATRICK GARDNER    DEPUTY CHIEF OF DEPARTMENT,(FIRE DEPARTMENT)   \n",
       "\n",
       "     BasePay OvertimePay   OtherPay      Benefits   TotalPay  \\\n",
       "0  167411.18         0.0  400184.25  Not Provided  567595.43   \n",
       "1  155966.02   245131.88  137811.38  Not Provided  538909.28   \n",
       "2  212739.13   106088.18    16452.6  Not Provided  335279.91   \n",
       "3    77916.0    56120.71   198306.9  Not Provided  332343.61   \n",
       "4   134401.6      9737.0  182234.59  Not Provided  326373.19   \n",
       "\n",
       "   TotalPayBenefits  Year  \n",
       "0         567595.43  2011  \n",
       "1         538909.28  2011  \n",
       "2         335279.91  2011  \n",
       "3         332343.61  2011  \n",
       "4         326373.19  2011  "
      ]
     },
     "execution_count": 2,
     "metadata": {},
     "output_type": "execute_result"
    }
   ],
   "source": [
    "# Step 1: Import Data using Pandas library\n",
    "\n",
    "df = pd.read_csv(r\"A:\\Programming in Python and R\\Module 2\\salary\\Total.csv\")\n",
    "df.head()"
   ]
  },
  {
   "cell_type": "markdown",
   "metadata": {},
   "source": [
    "### Step 2: Create Employee Function:\n",
    "     \n",
    "     Employee Function that accepts employee names and return thier details"
   ]
  },
  {
   "cell_type": "code",
   "execution_count": 3,
   "metadata": {},
   "outputs": [
    {
     "name": "stdout",
     "output_type": "stream",
     "text": [
      "\n",
      "No recod information found for peter in the database\n",
      "Invalid entry, try again.\n",
      "   \n",
      "\u001b[1;4mEmployee Information:\u001b[0m\n",
      "EmployeeName: PATRICK GARDNER\n",
      "JobTitle: DEPUTY CHIEF OF DEPARTMENT,(FIRE DEPARTMENT)\n",
      "BasePay: 134401.6\n",
      "OvertimePay: 9737.0\n",
      "OtherPay: 182234.59\n",
      "Benefits: Not Provided\n",
      "TotalPay: 326373.19\n",
      "TotalPayBenefits: 326373.19\n",
      "Year: 2011\n",
      "Invalid entry, try again.\n",
      "\n",
      "No recod information found for  in the database\n",
      "Thank you for searching employees in our records. Welcome!\n"
     ]
    }
   ],
   "source": [
    "# defining a function to search employees:\n",
    "\n",
    "def get_employee_info(employee_name):\n",
    "\n",
    "    # Checking if the employee name exists in the DataFrame (case-insensitive comparison)\n",
    "    if employee_name.lower() in df['EmployeeName'].str.lower().values:\n",
    "        # Retrieve information for the given employee\n",
    "        employee_info = df[df['EmployeeName'].str.lower() == employee_name.lower()].iloc[0]\n",
    "        return employee_info, True  # when Employee is found\n",
    "    else:\n",
    "        return None, False  # when Employee is not found\n",
    "\n",
    "# Loop for searching employees\n",
    "while True:\n",
    "    employee_name_input = input(\"Enter employee name (or type 'exit' to end): \")\n",
    "\n",
    "    if employee_name_input.lower() == 'exit':\n",
    "        print(\"Thank you for searching employees in our records. Welcome!\")\n",
    "        break  # End the loop and code\n",
    "\n",
    "    employee_details, found = get_employee_info(employee_name_input)\n",
    "\n",
    "    if found:\n",
    "        print(f\"   \")\n",
    "        print(\"\\033[1;4mEmployee Information:\\033[0m\")\n",
    "        # Print only the values without displaying the data type\n",
    "        for key, value in employee_details.items():\n",
    "            print(f\"{key}: {value}\")\n",
    "    else:\n",
    "        print(f\"\\nNo recod information found for {employee_name_input} in the database\")\n",
    "\n",
    "    # Prompt for searching another employee\n",
    "    search_another = input(\"\\nDo you want to search for another employee? (yes/no): \")\n",
    "\n",
    "    if search_another.lower() == 'yes':\n",
    "        continue  # Continue the loop\n",
    "\n",
    "    elif search_another.lower() == 'no':\n",
    "        print(\"Thank you for searching employees in our records. Welcome!\")\n",
    "        break  # End the loop and code\n",
    "\n",
    "    else:\n",
    "        print(\"Invalid entry, try again.\")"
   ]
  },
  {
   "cell_type": "markdown",
   "metadata": {},
   "source": [
    "### Step 3: Data Processing with Dictionary and Error Handling:"
   ]
  },
  {
   "cell_type": "code",
   "execution_count": 4,
   "metadata": {},
   "outputs": [
    {
     "name": "stdout",
     "output_type": "stream",
     "text": [
      "Average Total Pay per Year:\n",
      " Year  AveragePay\n",
      " 2011    71744.10\n",
      " 2012    74113.26\n",
      " 2014    75471.84\n",
      " 2015    77508.27\n",
      " 2013    77611.44\n",
      " 2016    80513.17\n",
      " 2017    84234.65\n",
      " 2018    87181.91\n"
     ]
    }
   ],
   "source": [
    "# Calculating the average TotalPay per Year:\n",
    "\n",
    "try:\n",
    "    average_total_pay_per_year = df.groupby('Year')['TotalPay'].mean().reset_index()\n",
    "\n",
    "    # Sort the DataFrame by 'TotalPay' in descending order\n",
    "    average_total_pay_per_year = average_total_pay_per_year.sort_values(by='TotalPay', ascending=True).round(2)\n",
    "\n",
    "    # Rename the 'TotalPay' column to 'AveragePay'\n",
    "    average_total_pay_per_year = average_total_pay_per_year.rename(columns={'TotalPay': 'AveragePay'})\n",
    "\n",
    "    # Print the result\n",
    "    print(\"Average Total Pay per Year:\")\n",
    "    print(average_total_pay_per_year.to_string(index=False))\n",
    "\n",
    "# Error handling\n",
    "except Exception as e:\n",
    "    print(f\"An error occurred: {e}\")"
   ]
  },
  {
   "cell_type": "code",
   "execution_count": 5,
   "metadata": {},
   "outputs": [
    {
     "name": "stdout",
     "output_type": "stream",
     "text": [
      "Top 20 Job Title Counts and TotalPay (Descending Order):\n",
      "                        JobTitle  Counts       TotalPay\n",
      "0               Transit Operator   17995  1191893912.75\n",
      "1                  Special Nurse   10857   416472960.65\n",
      "2               Registered Nurse    9249  1133034021.34\n",
      "3                    Firefighter    5891   815476230.46\n",
      "4                      Custodian    5759   293206312.54\n",
      "5               Police Officer 3    5432   755496208.48\n",
      "6         Public Service Trainee    4928    42933325.31\n",
      "7   Public Svc Aide-Public Works    4811    40980383.80\n",
      "8              Recreation Leader    4784    36095045.32\n",
      "9                 Police Officer    4254   375877460.58\n",
      "10        Patient Care Assistant    4154   226956367.10\n",
      "11                Deputy Sheriff    4093   505109426.80\n",
      "12              Police Officer 2    2781   387094637.17\n",
      "13                    Sergeant 3    2760   476986019.13\n",
      "14     Attorney (Civil/Criminal)    2707   395219149.59\n",
      "15     HSA Sr Eligibility Worker    2649   178487472.88\n",
      "16                        Porter    2594   125408240.65\n",
      "17               General Laborer    2496   146454637.27\n",
      "18     EMT/Paramedic/Firefighter    2470   322187417.75\n",
      "19              TRANSIT OPERATOR    2388   147441415.61\n"
     ]
    }
   ],
   "source": [
    "# Using Dictionary to perform analysis of Top 20 Job Titles and Their Total Pay:\n",
    "\n",
    "\n",
    "try:\n",
    "    # Defining Libraries to Count occurrences of each JobTitle and calculating the sum of TotalPay\n",
    "    job_title_counts = {}\n",
    "    total_pay_by_job_title = {}\n",
    "\n",
    "    for _, row in df.iterrows():\n",
    "        job_title = row['JobTitle']\n",
    "        total_pay = row['TotalPay']\n",
    "\n",
    "        job_title_counts[job_title] = job_title_counts.get(job_title, 0) + 1\n",
    "\n",
    "        if job_title in total_pay_by_job_title:\n",
    "            total_pay_by_job_title[job_title] += total_pay\n",
    "        else:\n",
    "            total_pay_by_job_title[job_title] = total_pay\n",
    "\n",
    "    # Convert the dictionaries to DataFrames\n",
    "    job_title_counts_df = pd.DataFrame(list(job_title_counts.items()), columns=['JobTitle', 'Counts'])\n",
    "    total_pay_by_job_title_df = pd.DataFrame(list(total_pay_by_job_title.items()), columns=['JobTitle', 'TotalPay'])\n",
    "\n",
    "    # Sort the job title counts DataFrame by 'Counts' in descending order\n",
    "    job_title_counts_df = job_title_counts_df.sort_values(by='Counts', ascending=False)\n",
    "\n",
    "    # Merge the DataFrames on 'JobTitle'\n",
    "    result_df = pd.merge(job_title_counts_df, total_pay_by_job_title_df, on='JobTitle')\n",
    "\n",
    "    # Filter the top 20 job titles\n",
    "    top_20_result_df = result_df.head(20)\n",
    "\n",
    "    # Convert 'TotalPay' to 2 decimal places \n",
    "    top_20_result_df.loc[:, 'TotalPay'] = top_20_result_df['TotalPay'].apply(lambda x: f'{x:.2f}')\n",
    "\n",
    "    # Print the result\n",
    "    print(\"Top 20 Job Title Counts and TotalPay (Descending Order):\")\n",
    "    print(top_20_result_df)\n",
    "\n",
    "# eRROR hANDLNG\n",
    "except Exception as e:\n",
    "    print(f\"An error occurred: {e}\")"
   ]
  },
  {
   "cell_type": "code",
   "execution_count": null,
   "metadata": {},
   "outputs": [],
   "source": []
  }
 ],
 "metadata": {
  "kernelspec": {
   "display_name": "Python 3",
   "language": "python",
   "name": "python3"
  },
  "language_info": {
   "codemirror_mode": {
    "name": "ipython",
    "version": 3
   },
   "file_extension": ".py",
   "mimetype": "text/x-python",
   "name": "python",
   "nbconvert_exporter": "python",
   "pygments_lexer": "ipython3",
   "version": "3.12.1"
  }
 },
 "nbformat": 4,
 "nbformat_minor": 2
}
